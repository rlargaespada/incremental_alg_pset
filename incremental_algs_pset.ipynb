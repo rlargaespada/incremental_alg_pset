{
 "cells": [
  {
   "cell_type": "code",
   "execution_count": 1,
   "id": "b5a71620-08e4-4321-ab50-fc609e94b3bc",
   "metadata": {},
   "outputs": [],
   "source": [
    "# Requirements: python=3.9+ numpy matplotlib jupyter ipython ipympl pylint ipywidgets\n",
    "# Enabling the `widget` backend.\n",
    "# This requires jupyter-matplotlib a.k.a. ipympl.\n",
    "%matplotlib widget\n",
    "\n",
    "from collections import defaultdict\n",
    "import numpy as np\n",
    "\n",
    "from utils import State, ARAStar_State, ARAStar_Plotter, GRAPH_LARGE, GRAPH_SMALL"
   ]
  },
  {
   "attachments": {},
   "cell_type": "markdown",
   "id": "ec75b83b",
   "metadata": {},
   "source": [
    "Add some intro about ARA*, how it works, what it's trying to solve, etc. Some graphics pulled from the slides or paper or online would be nice. Follow the recommendations on the advanced lecture assignment page. Include something about the effect changing epsilon has on the search"
   ]
  },
  {
   "attachments": {},
   "cell_type": "markdown",
   "id": "272615db",
   "metadata": {},
   "source": [
    "Add some instructions like 'our ARA* implementation is below, you'll need to fill out the following methods: initialize(), improve_path(), calc_epsilon_prime(), run() (include a brief description for each method). we've included testing code for each method so you can implement them one at a time, but the tests build on each other so make sure to go in order'."
   ]
  },
  {
   "attachments": {},
   "cell_type": "markdown",
   "id": "6787c6e8",
   "metadata": {},
   "source": [
    "Something like 'pseudocode for each of the methods you'll need to implement is included here. it's based on the pseudocode from the original ARA* paper, with some additions to make it easier to visualize and test our outputs.' And then include the pseudocode images, ideally one next to the other."
   ]
  },
  {
   "cell_type": "code",
   "execution_count": null,
   "id": "767417ce",
   "metadata": {},
   "outputs": [],
   "source": [
    "class ARAStar_Planner:\n",
    "    \"\"\"The ARA* planner with needed utilities, along with some additional\n",
    "    utilities for serializing the state of the algorithm for visualization\n",
    "    and testing purposes.\n",
    "\n",
    "    Attributes\n",
    "    ----------\n",
    "    graph : np.ndarray, (n x m)\n",
    "        the graph being searched through, see __init__ for format requirements.\n",
    "    start, goal : State\n",
    "        start and goal states in the graph\n",
    "    epsilon : float\n",
    "        inflation factor for the heuristic function\n",
    "    stepsize : float\n",
    "        amount to decrease epsilon by each iteration of ARA*\n",
    "    g : dict[State, float]\n",
    "        dict of costs from the start State to a given State within the graph\n",
    "    OPEN : dict[State: float]\n",
    "        dict of locally inconsistent States to respective fvalues, used as\n",
    "        a priority queue for ARA* search\n",
    "    CLOSED : set[State]\n",
    "        set of States which have been expanded\n",
    "    INCONS : set[State]\n",
    "        set of locally inconsistent States which have been previously expanded\n",
    "    PARENTS : dict[State, State]\n",
    "        dict mapping each expanded State to its predecessor State in the graph\n",
    "    alg_history : dict[float, List[ARAStar_State]]\n",
    "        dict mapping an epsilon value to a list of ARAStar_State objects,\n",
    "        which recreate the state of the algoritm as it progressed through\n",
    "        its search.\n",
    "    paths_found : dict[float, List[State]]\n",
    "        dict mapping epsilon values to the final paths returned for that\n",
    "        epsilon. Path is represented as a list of States, start to goal.\n",
    "    \"\"\"\n",
    "    def __init__(self, graph: np.ndarray, start: State,\n",
    "                 goal: State, epsilon: float = 3.0,\n",
    "                 stepsize: float = 0.4) -> None:\n",
    "        '''\n",
    "        Parameters\n",
    "        ----------\n",
    "            graph : np.ndarray\n",
    "                NumPy array representing the graph to search through. Should\n",
    "                comprise of only 0s and 1s, with 0s representing free space\n",
    "                and 1s representing obstacles.\n",
    "            start, goal : State\n",
    "                start and goal states for the search.\n",
    "            epsilon : float\n",
    "                initial inflation factor for the heuristic function\n",
    "            stepsize : float\n",
    "                amount to decrease epsilon by each iteration of ARA*\n",
    "        '''\n",
    "        self.graph = graph\n",
    "        self.start = start\n",
    "        self.goal = goal\n",
    "        self.epsilon = epsilon\n",
    "        self.stepsize = stepsize\n",
    "\n",
    "        self.g = {}\n",
    "        self.OPEN = {}\n",
    "        self.CLOSED = set()\n",
    "        self.INCONS = set()\n",
    "        self.PARENTS = {}\n",
    "\n",
    "        self.alg_history = defaultdict(list)\n",
    "        self.paths_found = {}\n",
    "\n",
    "    def h(self, state: State) -> int:\n",
    "        \"\"\"Euclidean heuristic between goal and state.\"\"\"\n",
    "        return np.hypot(self.goal.x - state.x, self.goal.y - state.y)\n",
    "        # return max(abs(state.x - self.goal.x), abs(state.y - self.goal.y))\n",
    "\n",
    "    def f(self, state: State) -> float:\n",
    "        \"\"\"Combined inflated heuristic.\"\"\"\n",
    "        return self.g[state] + self.epsilon * self.h(state)\n",
    "\n",
    "    def is_clear(self, state: State) -> bool:\n",
    "        \"\"\"Returns True if given state does not collide with an obstacle in the graph,\n",
    "        False otherwise.\"\"\"\n",
    "        return self.graph[state] == 0\n",
    "\n",
    "    def is_obstacle(self, state: State):\n",
    "        \"\"\"Returns True if given state collides with an obstacle in the graph,\n",
    "        False otherwise.\"\"\"\n",
    "        return self.graph[state] != 0\n",
    "\n",
    "    def valid_state(self, state: State) -> bool:\n",
    "        \"\"\"Returns True if given state is within bounds of graph and does not\n",
    "        collide with an obstacle, False otherwise.\"\"\"\n",
    "        x, y = state\n",
    "        x_bound, y_bound = self.graph.shape\n",
    "        return 0 <= x < x_bound and 0 <= y < y_bound and self.is_clear(state)\n",
    "\n",
    "    def neighbors(self, state: State) -> list[State]:\n",
    "        \"\"\"Returns list of neighbors of the given state which are within the bounds\n",
    "        of the 8-connected graph and which do not collide with obstacles.\"\"\"\n",
    "        x, y = state\n",
    "        n = [\n",
    "            (x - 1, y - 1), (x - 1, y), (x - 1, y + 1),\n",
    "            (x, y - 1), (x, y + 1),\n",
    "            (x + 1, y - 1), (x + 1, y), (x + 1, y + 1),\n",
    "        ]\n",
    "        return [State(*s) for s in n if self.valid_state(s)]\n",
    "\n",
    "    def cost(self, state1: State, state2: State) -> float:\n",
    "        \"\"\"Cost of traversal between two states. Infinite if states are not\n",
    "        neighbors, else Euclidean distance.\"\"\"\n",
    "        if state2 not in self.neighbors(state1):\n",
    "            return np.inf\n",
    "\n",
    "        return np.hypot(state2.x - state1.x, state2.y - state1.y)\n",
    "\n",
    "    def get_next_state(self) -> State:\n",
    "        \"\"\"Returns the state from OPEN with the lowest f value, which should\n",
    "        be expanded next, or None if OPEN is empty.\"\"\"\n",
    "        if not self.OPEN:\n",
    "            return None\n",
    "\n",
    "        lowest_f = min(self.OPEN.values())\n",
    "        next_states = {state for state, f in self.OPEN.items() if f == lowest_f}\n",
    "        return min(next_states)  # breaks ties between states\n",
    "\n",
    "    def extract_path(self, final_state: State = None) -> list[State]:\n",
    "        \"\"\"From PARENTS mapping, returns path to final_state as a list\n",
    "        of States. If final_state is None, defaults to goal state.\"\"\"\n",
    "        if final_state is None:\n",
    "            final_state = self.goal\n",
    "\n",
    "        if final_state not in self.PARENTS:  # path not found yet\n",
    "            return None\n",
    "\n",
    "        s = final_state  # rename within loop\n",
    "        path = [s]\n",
    "        while True:\n",
    "            s = self.PARENTS[s]\n",
    "            path.append(s)\n",
    "\n",
    "            if s == self.start:\n",
    "                break\n",
    "\n",
    "        path.reverse()\n",
    "        return path\n",
    "\n",
    "    def publish_path(self):\n",
    "        \"\"\"Saves current value of epsilon and current path to set of paths found.\"\"\"\n",
    "        self.paths_found[self.epsilon] = self.extract_path()\n",
    "\n",
    "    def save_alg_state(self, current_state: State):\n",
    "        \"\"\"Saves current path and values of OPEN, CLOSED, and INCONS states\n",
    "        to alg history for use in testing and plotting.\"\"\"\n",
    "        self.alg_history[self.epsilon].append(ARAStar_State(\n",
    "                self.OPEN.copy(),\n",
    "                self.CLOSED.copy(),\n",
    "                self.INCONS.copy(),\n",
    "                self.extract_path(current_state)\n",
    "            ))\n",
    "\n",
    "    #* student implemented\n",
    "    def initialize(self):\n",
    "        ### YOUR CODE HERE ####\n",
    "        raise NotImplementedError\n",
    "\n",
    "    #* student implemented\n",
    "    def improve_path(self):\n",
    "        ### YOUR CODE HERE ####\n",
    "        raise NotImplementedError\n",
    "\n",
    "    #* student implemented\n",
    "    def calc_epsilon_prime(self):\n",
    "        ### YOUR CODE HERE ####\n",
    "        raise NotImplementedError\n",
    "\n",
    "    #* student implemented\n",
    "    def run(self):\n",
    "        ### YOUR CODE HERE ####\n",
    "        raise NotImplementedError"
   ]
  },
  {
   "cell_type": "code",
   "execution_count": 4,
   "id": "11e3216c-5f7b-42ee-871f-da0b866a57a2",
   "metadata": {},
   "outputs": [],
   "source": [
    "# Raul: finish test for initialize() 10 pts\n",
    "# testers: run this cell after implementing initialize\n",
    "\n",
    "planner = ARAStar_Planner(GRAPH_SMALL, State(0, 0), State(6, 5), 2.5, stepsize=1)\n",
    "planner.initialize()\n",
    "print(planner.g)\n",
    "print(planner.OPEN)\n",
    "print(planner.PARENTS)\n",
    "assert not planner.CLOSED\n",
    "assert not planner.INCONS\n",
    "assert not planner.alg_history\n",
    "assert not planner.paths_found\n",
    "\n",
    "planner = ARAStar_Planner(GRAPH_LARGE, State(24, 4), State(4, 44), 1.5, .2)\n",
    "planner.initialize()\n",
    "print(planner.OPEN)"
   ]
  },
  {
   "cell_type": "code",
   "execution_count": null,
   "id": "8be0d7c8",
   "metadata": {},
   "outputs": [],
   "source": [
    "# Raul: write test for improve_path() 10 pts\n",
    "# testers: run this cell after implementing improve_path\n",
    "\n",
    "planner = ARAStar_Planner(GRAPH_SMALL, State(0, 0), State(6, 5), 2.5, stepsize=1)\n",
    "planner.initialize()\n",
    "planner.improve_path()\n",
    "planner.publish_path()\n",
    "from pprint import pprint\n",
    "pprint(planner.alg_history)\n",
    "pprint(planner.paths_found)"
   ]
  },
  {
   "cell_type": "code",
   "execution_count": null,
   "id": "ffcc8477",
   "metadata": {},
   "outputs": [],
   "source": [
    "# Raul: write test for calc_epsilon_prime() 10 pts\n",
    "# testers: run this cell after implementing calc_epsilon_prime\n",
    "\n",
    "planner = ARAStar_Planner(GRAPH_SMALL, State(0, 0), State(6, 5), 2.5, stepsize=1)\n",
    "planner.initialize()\n",
    "planner.improve_path()\n",
    "print(planner.calc_epsilon_prime())\n",
    "\n",
    "planner = ARAStar_Planner(GRAPH_LARGE, State(24, 4), State(4, 44), 1.5, .2)\n",
    "planner.initialize()\n",
    "planner.improve_path()\n",
    "print(planner.calc_epsilon_prime())"
   ]
  },
  {
   "cell_type": "code",
   "execution_count": null,
   "id": "a382e340",
   "metadata": {},
   "outputs": [],
   "source": [
    "# Raul: write test for run() 10 pts\n",
    "# testers: run this cell after implementing run\n",
    "\n",
    "planner = ARAStar_Planner(GRAPH_LARGE, State(24, 4), State(4, 44), 1.5, .2)\n",
    "planner.run()\n",
    "from pprint import pprint\n",
    "pprint(planner.paths_found)"
   ]
  },
  {
   "attachments": {},
   "cell_type": "markdown",
   "id": "8138c8f3",
   "metadata": {},
   "source": [
    "Now that we've verified our implementation, let's see how it works in action, by visualizing how the search progresses along a graph with a two different potential paths for different values of $\\epsilon$"
   ]
  },
  {
   "cell_type": "code",
   "execution_count": null,
   "id": "4e7c4b5c",
   "metadata": {},
   "outputs": [],
   "source": [
    "EPSILON = 2.5\n",
    "START = State(0, 0)\n",
    "GOAL = State(6, 5)\n",
    "\n",
    "planner = ARAStar_Planner(GRAPH_SMALL, START, GOAL, EPSILON, stepsize=1)\n",
    "plotter = ARAStar_Plotter(GRAPH_SMALL, START, GOAL)\n",
    "planner.run()"
   ]
  },
  {
   "cell_type": "code",
   "execution_count": null,
   "id": "9da8ec59",
   "metadata": {},
   "outputs": [],
   "source": [
    "plotter.plot_episode(2.5, planner.alg_history[2.5])"
   ]
  },
  {
   "cell_type": "code",
   "execution_count": null,
   "id": "702e5f0a",
   "metadata": {},
   "outputs": [],
   "source": [
    "plotter.plot_episode(1.5, planner.alg_history[1.5])\n"
   ]
  },
  {
   "cell_type": "code",
   "execution_count": null,
   "id": "1a849abf",
   "metadata": {},
   "outputs": [],
   "source": [
    "plotter.plot_paths_found(planner.paths_found)"
   ]
  },
  {
   "attachments": {},
   "cell_type": "markdown",
   "id": "7c1c5573",
   "metadata": {},
   "source": [
    "Add some notes about how the graphs should look like, explain how widget works"
   ]
  },
  {
   "attachments": {},
   "cell_type": "markdown",
   "id": "bee5ea58",
   "metadata": {},
   "source": [
    "## Applying ARA* to Larger Graphs with Multiple Branches (10 pts)\n",
    "\n",
    "Now lets try applying our planner to larger regions where there might be many different paths we can take."
   ]
  },
  {
   "cell_type": "code",
   "execution_count": null,
   "id": "1ed01e38-4794-4719-a503-36ad32dbcadc",
   "metadata": {},
   "outputs": [],
   "source": [
    "EPSILON = 1.5\n",
    "START = State(24, 4)\n",
    "GOAL = State(4, 44)\n",
    "\n",
    "planner = ARAStar_Planner(GRAPH_LARGE, START, GOAL, EPSILON, stepsize=0.2)\n",
    "plotter = ARAStar_Plotter(GRAPH_LARGE, START, GOAL)\n",
    "planner.run()"
   ]
  },
  {
   "cell_type": "code",
   "execution_count": null,
   "id": "2873d0ce-97a3-475d-a44e-74043bbc5f2f",
   "metadata": {},
   "outputs": [],
   "source": [
    "plotter.plot_paths_found(planner.paths_found)"
   ]
  },
  {
   "attachments": {},
   "cell_type": "markdown",
   "id": "53cbd94c",
   "metadata": {},
   "source": [
    "Why does the graph look like this? How does eps changing affect the path?\n",
    "\n",
    "**Your answer here**"
   ]
  }
 ],
 "metadata": {
  "kernelspec": {
   "display_name": "Python 3 (ipykernel)",
   "language": "python",
   "name": "python3"
  },
  "language_info": {
   "codemirror_mode": {
    "name": "ipython",
    "version": 3
   },
   "file_extension": ".py",
   "mimetype": "text/x-python",
   "name": "python",
   "nbconvert_exporter": "python",
   "pygments_lexer": "ipython3",
   "version": "3.10.6"
  }
 },
 "nbformat": 4,
 "nbformat_minor": 5
}
