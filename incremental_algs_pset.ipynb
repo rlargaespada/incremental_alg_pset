{
 "cells": [
  {
   "cell_type": "code",
   "execution_count": 1,
   "id": "b5a71620-08e4-4321-ab50-fc609e94b3bc",
   "metadata": {},
   "outputs": [],
   "source": [
    "# Requirements: python=3.9+ numpy matplotlib jupyter ipython ipympl pylint ipywidgets nose\n",
    "# Enabling the `widget` backend.\n",
    "# This requires jupyter-matplotlib a.k.a. ipympl.\n",
    "%matplotlib widget\n",
    "\n",
    "import numpy as np\n",
    "from utils import (State, ARAStar_Plotter, ARAStar_Planner,\n",
    "                   GRAPH_LARGE, GRAPH_SMALL)\n",
    "import tests"
   ]
  },
  {
   "attachments": {},
   "cell_type": "markdown",
   "id": "ec75b83b",
   "metadata": {},
   "source": [
    "Add some intro about ARA*, how it works, what it's trying to solve, etc. Some graphics pulled from the slides or paper or online would be nice. Follow the recommendations on the advanced lecture assignment page. Include something about the effect changing epsilon has on the search"
   ]
  },
  {
   "attachments": {},
   "cell_type": "markdown",
   "id": "272615db",
   "metadata": {},
   "source": [
    "Add some instructions like 'our ARA* implementation is below, you'll need to fill out the following methods: initialize(), improve_path(), calc_epsilon_prime(), run() (include a brief description for each method). we've included testing code for each method so you can implement them one at a time, but the tests build on each other so make sure to go in order'."
   ]
  },
  {
   "attachments": {},
   "cell_type": "markdown",
   "id": "6787c6e8",
   "metadata": {},
   "source": [
    "Something like 'pseudocode for each of the methods you'll need to implement is included here. it's based on the pseudocode from the original ARA* paper, with some additions to make it easier to visualize and test our outputs.' And then include the pseudocode images, ideally one next to the other."
   ]
  },
  {
   "cell_type": "code",
   "execution_count": null,
   "id": "767417ce",
   "metadata": {},
   "outputs": [],
   "source": [
    "def initialize(planner: ARAStar_Planner):\n",
    "    raise NotImplementedError"
   ]
  },
  {
   "cell_type": "code",
   "execution_count": 4,
   "id": "11e3216c-5f7b-42ee-871f-da0b866a57a2",
   "metadata": {},
   "outputs": [],
   "source": [
    "tests.test_initalize(initialize)"
   ]
  },
  {
   "cell_type": "code",
   "execution_count": null,
   "id": "0f837371",
   "metadata": {},
   "outputs": [],
   "source": [
    "def improve_path(planner: ARAStar_Planner):\n",
    "    raise NotImplementedError"
   ]
  },
  {
   "cell_type": "code",
   "execution_count": null,
   "id": "8be0d7c8",
   "metadata": {},
   "outputs": [],
   "source": [
    "tests.test_improve_path(improve_path, initialize)"
   ]
  },
  {
   "cell_type": "code",
   "execution_count": null,
   "id": "7f96d8e0",
   "metadata": {},
   "outputs": [],
   "source": [
    "def calc_epsilon_prime(planner: ARAStar_Planner):\n",
    "    raise NotImplementedError"
   ]
  },
  {
   "cell_type": "code",
   "execution_count": null,
   "id": "ffcc8477",
   "metadata": {},
   "outputs": [],
   "source": [
    "tests.test_calc_epsilon_prime(calc_epsilon_prime, improve_path, initialize)"
   ]
  },
  {
   "cell_type": "code",
   "execution_count": null,
   "id": "7a1400e4",
   "metadata": {},
   "outputs": [],
   "source": [
    "def run(planner: ARAStar_Planner):\n",
    "    raise NotImplementedError"
   ]
  },
  {
   "cell_type": "code",
   "execution_count": null,
   "id": "a382e340",
   "metadata": {},
   "outputs": [],
   "source": [
    "tests.test_run(run)"
   ]
  },
  {
   "attachments": {},
   "cell_type": "markdown",
   "id": "8138c8f3",
   "metadata": {},
   "source": [
    "Now that we've verified our implementation, let's see how it works in action, by visualizing how the search progresses along a graph with a two different potential paths for different values of $\\epsilon$"
   ]
  },
  {
   "cell_type": "code",
   "execution_count": null,
   "id": "4e7c4b5c",
   "metadata": {},
   "outputs": [],
   "source": [
    "EPSILON = 2.5\n",
    "START = State(0, 0)\n",
    "GOAL = State(6, 5)\n",
    "\n",
    "planner = ARAStar_Planner(GRAPH_SMALL, START, GOAL, EPSILON, stepsize=1)\n",
    "plotter = ARAStar_Plotter(GRAPH_SMALL, START, GOAL)\n",
    "run(planner)"
   ]
  },
  {
   "cell_type": "code",
   "execution_count": null,
   "id": "9da8ec59",
   "metadata": {},
   "outputs": [],
   "source": [
    "plotter.plot_episode(2.5, planner.alg_history[2.5])"
   ]
  },
  {
   "cell_type": "code",
   "execution_count": null,
   "id": "702e5f0a",
   "metadata": {},
   "outputs": [],
   "source": [
    "plotter.plot_episode(1.5, planner.alg_history[1.5])"
   ]
  },
  {
   "cell_type": "code",
   "execution_count": null,
   "id": "1a849abf",
   "metadata": {},
   "outputs": [],
   "source": [
    "plotter.plot_paths_found(planner.paths_found)"
   ]
  },
  {
   "attachments": {},
   "cell_type": "markdown",
   "id": "7c1c5573",
   "metadata": {},
   "source": [
    "Add some notes about how the graphs should look like, explain how widget works"
   ]
  },
  {
   "attachments": {},
   "cell_type": "markdown",
   "id": "bee5ea58",
   "metadata": {},
   "source": [
    "## Applying ARA* to Larger Graphs with Multiple Branches (10 pts)\n",
    "\n",
    "Now lets try applying our planner to larger regions where there might be many different paths we can take."
   ]
  },
  {
   "cell_type": "code",
   "execution_count": null,
   "id": "1ed01e38-4794-4719-a503-36ad32dbcadc",
   "metadata": {},
   "outputs": [],
   "source": [
    "EPSILON = 1.5\n",
    "START = State(24, 4)\n",
    "GOAL = State(4, 44)\n",
    "\n",
    "planner = ARAStar_Planner(GRAPH_LARGE, START, GOAL, EPSILON, stepsize=0.2)\n",
    "plotter = ARAStar_Plotter(GRAPH_LARGE, START, GOAL)\n",
    "run(planner)"
   ]
  },
  {
   "cell_type": "code",
   "execution_count": null,
   "id": "2873d0ce-97a3-475d-a44e-74043bbc5f2f",
   "metadata": {},
   "outputs": [],
   "source": [
    "plotter.plot_paths_found(planner.paths_found)"
   ]
  },
  {
   "attachments": {},
   "cell_type": "markdown",
   "id": "53cbd94c",
   "metadata": {},
   "source": [
    "Why does the graph look like this? How does eps changing affect the path?\n",
    "\n",
    "**Your answer here**"
   ]
  }
 ],
 "metadata": {
  "kernelspec": {
   "display_name": "Python 3 (ipykernel)",
   "language": "python",
   "name": "python3"
  },
  "language_info": {
   "codemirror_mode": {
    "name": "ipython",
    "version": 3
   },
   "file_extension": ".py",
   "mimetype": "text/x-python",
   "name": "python",
   "nbconvert_exporter": "python",
   "pygments_lexer": "ipython3",
   "version": "3.10.6"
  }
 },
 "nbformat": 4,
 "nbformat_minor": 5
}
