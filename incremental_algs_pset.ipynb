{
 "cells": [
  {
   "cell_type": "markdown",
   "id": "8a2cb4c6-0924-4a1e-b38b-ad16e1d01d15",
   "metadata": {},
   "source": [
    "# Incremental Algorithms Problem Set (50 points)\n",
    "\n",
    "In this problem set, you will implement the ARA* algorithm, an anytime heuristic search that tunes its performance bound based on available search time. The algorithm begins by finding a suboptimal solution quickly using a loose bound and then progressively tightens the bound until time runs out. With enough time, it finds a provably optimal solution. In addition, while improving its bound, ARA* reuses previous search efforts, which makes it significantly more efficient."
   ]
  },
  {
   "cell_type": "markdown",
   "id": "26adf003-2f8a-49b4-b55a-166506fcbef2",
   "metadata": {},
   "source": [
    "Make sure you load the dependencies below."
   ]
  },
  {
   "cell_type": "code",
   "execution_count": 1,
   "id": "b5a71620-08e4-4321-ab50-fc609e94b3bc",
   "metadata": {},
   "outputs": [],
   "source": [
    "# Requirements: python=3.9+ numpy matplotlib jupyter ipython ipympl pylint ipywidgets nose\n",
    "# Enabling the `widget` backend.\n",
    "# This requires jupyter-matplotlib a.k.a. ipympl.\n",
    "%matplotlib widget\n",
    "\n",
    "import numpy as np\n",
    "from utils import (State, ARAStar_Plotter, ARAStar_Planner,\n",
    "                   GRAPH_LARGE, GRAPH_SMALL)\n",
    "import tests"
   ]
  },
  {
   "cell_type": "markdown",
   "id": "48f1b3ae-c1c9-47af-9605-236e4858fa5a",
   "metadata": {},
   "source": [
    "# Conceptual Questions"
   ]
  },
  {
   "cell_type": "markdown",
   "id": "a727fa32-50f6-4c2a-8a6d-0ee1cf2708e5",
   "metadata": {},
   "source": [
    "## Problem 1 (2 pts) \n",
    "\n",
    "Why might we prefer to find a suboptimal solution over an optimal solution? Can you name a hypothetical example in which this would be the case.\n",
    "<br/>\n",
    "<div class=\"alert alert-info\">Please type your answer below.</div>"
   ]
  },
  {
   "cell_type": "markdown",
   "id": "bd7c84fe-a42f-4109-ac7d-70f7ce6ccf1e",
   "metadata": {},
   "source": [
    "ANSWER TO PROBLEM 1"
   ]
  },
  {
   "cell_type": "markdown",
   "id": "dcae778e-65f5-4169-a13d-44ec56cff9db",
   "metadata": {},
   "source": [
    "## Problem 2 (2 pts) \n",
    "In the following figure, the left three columns correspond to A* searches with decreasing $\\epsilon$ and the right three columns correspond to ARA* search iterations with decreasing $\\epsilon$. The shaded cells represent cells that have been expanded. Why are there fewer cells expanded in the ARA* algorithm? \n",
    "<img src=\"ara_star_iterations.png\" />\n",
    "<br/>\n",
    "<div class=\"alert alert-info\">Please type your answer below.</div>"
   ]
  },
  {
   "cell_type": "markdown",
   "id": "953d0b36-691f-432c-9b99-4e335ed52be4",
   "metadata": {},
   "source": [
    "ANSWER TO PROBLEM 2"
   ]
  },
  {
   "cell_type": "markdown",
   "id": "15cd93c5-a356-4fc1-be6d-54ccf876c9f0",
   "metadata": {},
   "source": [
    "# Specification of ARA* Planner"
   ]
  },
  {
   "cell_type": "markdown",
   "id": "a6804460-e04e-4c1d-8e86-d09ac1c21b1d",
   "metadata": {},
   "source": [
    "We have created a class called `ARAStar_Planner` with several data structures and utility methods that are helpful in performing the ARA* algorithm. We have also provided some additional utilies for serializing the state of the algorithm for visualization purposes. We recommend you take a look at `ara_star.py` to understand how these methods work. \n",
    "\n",
    "The `ARAStar_Planner` class is initialized as follows:\n",
    "    \n",
    "    ARAStar_Planner(graph, start, goal, epsilon, stepsize)\n",
    "    \n",
    "where the arguments are:\n",
    "- `graph` [np.ndarray] - _graph to search through comprised of only 0s and 1s, with 0s representing free space and 1s representing obstacles_\n",
    "- `start` [State] - _start coordinate of the search_\n",
    "- `goal` [State] - _goal coordinate of the search_\n",
    "- `epsilon` [float] - _initial inflation factor for the heuristic function_\n",
    "- `stepsize` [float] - _amount to decrease epsilon by each iteration of ARA*_\n",
    "\n",
    "All of the above are stored as attributes within the `ARAStar_Planner` class. The class additionally has these attributes, some of which you might want to utilize in the functions you write later in this problem set:\n",
    "- `g` [dict{State: float}] - _mapping of `State` instances to the cost from the start state to the given state_\n",
    "- `OPEN` [dict{State: float}] - _mapping locally inconsistent `States` to their respective fvalues; used as a priority queue for ARA* search_\n",
    "- `CLOSED` [set{State}] - _`States` which have been expanded_\n",
    "- `INCONS` [set{State}] - _locally inconsistent `States` which have been previously expanded_\n",
    "- `PARENTS` [dict{State: State}] - _mapping of each expanded State to its predecessor State in the graph_\n",
    "- `alg_history` [dict{float: List[ARAStar_State]}] - _mapping of an epsilon value to a list of ARAStar_State objects, which recreate the state of the algoritm as it progressed through its search_\n",
    "\n",
    "Note that `State` objects represent coordinates on our grid. We can initialize the coordinate `(x, y)` as `State(x, y)`. For example, `(5, 6)` would correspond to `State(5, 6)`. \n",
    "\n",
    "\n",
    "\n",
    "We have also provided the following methods in the `ARAStar_Planner` class for you to use. Check out `ara_star.py` to see the implementation.\n",
    "- `h(self, state: State) -> int` - Euclidean heuristic between goal and state\n",
    "- `f(self, state: State) -> float` - Combined inflated heuristic\n",
    "- `is_clear(self, state: State) -> bool` - Returns True if given state does not collide with an obstacle in the graph, False otherwise\n",
    "- `is_obstacle(self, state: State) -> bool` - Returns True if given state collides with an obstacle in the graph, False otherwise.\n",
    "- `valid_state(self, state: State) -> bool` - Returns True if given state is within bounds of graph and does not collide with an obstacle, False otherwise.\n",
    "- `neighbors(self, state: State) -> list[State]` - Returns list of neighbors of the given state which are within the bounds of the 8-connected graph and which do not collide with obstacles.\n",
    "- `cost(self, state1: State, state2: State) -> float` - Cost of traversal between two states. Infinite if states are not neighbors, else Euclidean distance.\n",
    "- `get_next_state(self) -> State` - Returns the state from OPEN with the lowest f value, which should be expanded next, or None if OPEN is empty\n",
    "- `extract_path(self, final_state: State = None) -> list[State]` - From PARENTS mapping, returns path to final_state as a list of States. If final_state is None, defaults to goal state\n",
    "- `publish_path(self)` - Saves current value of epsilon and current path to set of paths found\n",
    "- `save_alg_state(self, current_state: State)` - Saves current path and values of OPEN, CLOSED, and INCONS states to algorithm history for use in testing and plotting\n",
    "        "
   ]
  },
  {
   "cell_type": "markdown",
   "id": "7e0c8722-72e4-41cc-ad44-c8e45b3d7ddb",
   "metadata": {},
   "source": [
    "# Implementing ARA*"
   ]
  },
  {
   "cell_type": "markdown",
   "id": "f74b9002-c7ba-42ab-94bc-26a7d08de1ce",
   "metadata": {},
   "source": [
    "Below you will implement the `initialize`, `improve_path`, `calc_epsilon_prime`, and `run` methods. We've included testing code for each method so you can implement them one at a time, but the tests build on each other so be sure to go in order! Each of these methods is based on the pseudocode from the original ARA* paper (included), with some additions to make it visualize and test our inputs. You can find images of the pseudocode in this folder."
   ]
  },
  {
   "cell_type": "markdown",
   "id": "272615db",
   "metadata": {},
   "source": [
    "Add some instructions like 'our ARA* implementation is below, you'll need to fill out the following methods: initialize(), improve_path(), calc_epsilon_prime(), run() (include a brief description for each method). we've included testing code for each method so you can implement them one at a time, but the tests build on each other so make sure to go in order'."
   ]
  },
  {
   "cell_type": "markdown",
   "id": "6787c6e8",
   "metadata": {},
   "source": [
    "Something like 'pseudocode for each of the methods you'll need to implement is included here. it's based on the pseudocode from the original ARA* paper, with some additions to make it easier to visualize and test our outputs.' And then include the pseudocode images, ideally one next to the other."
   ]
  },
  {
   "cell_type": "code",
   "execution_count": null,
   "id": "767417ce",
   "metadata": {},
   "outputs": [],
   "source": [
    "def initialize(planner: ARAStar_Planner):\n",
    "    raise NotImplementedError"
   ]
  },
  {
   "cell_type": "code",
   "execution_count": 4,
   "id": "11e3216c-5f7b-42ee-871f-da0b866a57a2",
   "metadata": {},
   "outputs": [],
   "source": [
    "tests.test_initalize(initialize)"
   ]
  },
  {
   "cell_type": "code",
   "execution_count": null,
   "id": "0f837371",
   "metadata": {},
   "outputs": [],
   "source": [
    "def improve_path(planner: ARAStar_Planner):\n",
    "    raise NotImplementedError"
   ]
  },
  {
   "cell_type": "code",
   "execution_count": null,
   "id": "8be0d7c8",
   "metadata": {},
   "outputs": [],
   "source": [
    "tests.test_improve_path(improve_path, initialize)"
   ]
  },
  {
   "cell_type": "code",
   "execution_count": null,
   "id": "7f96d8e0",
   "metadata": {},
   "outputs": [],
   "source": [
    "def calc_epsilon_prime(planner: ARAStar_Planner):\n",
    "    raise NotImplementedError"
   ]
  },
  {
   "cell_type": "code",
   "execution_count": null,
   "id": "ffcc8477",
   "metadata": {},
   "outputs": [],
   "source": [
    "tests.test_calc_epsilon_prime(calc_epsilon_prime, improve_path, initialize)"
   ]
  },
  {
   "cell_type": "code",
   "execution_count": null,
   "id": "7a1400e4",
   "metadata": {},
   "outputs": [],
   "source": [
    "def run(planner: ARAStar_Planner):\n",
    "    raise NotImplementedError"
   ]
  },
  {
   "cell_type": "code",
   "execution_count": null,
   "id": "a382e340",
   "metadata": {},
   "outputs": [],
   "source": [
    "tests.test_run(run)"
   ]
  },
  {
   "cell_type": "markdown",
   "id": "8138c8f3",
   "metadata": {},
   "source": [
    "Now that we've verified our implementation, let's see how it works in action, by visualizing how the search progresses along a graph with a two different potential paths for different values of $\\epsilon$"
   ]
  },
  {
   "cell_type": "code",
   "execution_count": null,
   "id": "4e7c4b5c",
   "metadata": {},
   "outputs": [],
   "source": [
    "EPSILON = 2.5\n",
    "START = State(0, 0)\n",
    "GOAL = State(6, 5)\n",
    "\n",
    "planner = ARAStar_Planner(GRAPH_SMALL, START, GOAL, EPSILON, stepsize=1)\n",
    "plotter = ARAStar_Plotter(GRAPH_SMALL, START, GOAL)\n",
    "run(planner)"
   ]
  },
  {
   "cell_type": "code",
   "execution_count": null,
   "id": "9da8ec59",
   "metadata": {},
   "outputs": [],
   "source": [
    "plotter.plot_episode(2.5, planner.alg_history[2.5])"
   ]
  },
  {
   "cell_type": "code",
   "execution_count": null,
   "id": "702e5f0a",
   "metadata": {},
   "outputs": [],
   "source": [
    "plotter.plot_episode(1.5, planner.alg_history[1.5])"
   ]
  },
  {
   "cell_type": "code",
   "execution_count": null,
   "id": "1a849abf",
   "metadata": {},
   "outputs": [],
   "source": [
    "plotter.plot_paths_found(planner.paths_found)"
   ]
  },
  {
   "cell_type": "markdown",
   "id": "7c1c5573",
   "metadata": {},
   "source": [
    "Add some notes about how the graphs should look like, explain how widget works"
   ]
  },
  {
   "cell_type": "markdown",
   "id": "bee5ea58",
   "metadata": {},
   "source": [
    "## Applying ARA* to Larger Graphs with Multiple Branches (10 pts)\n",
    "\n",
    "Now lets try applying our planner to larger regions where there might be many different paths we can take."
   ]
  },
  {
   "cell_type": "code",
   "execution_count": null,
   "id": "1ed01e38-4794-4719-a503-36ad32dbcadc",
   "metadata": {},
   "outputs": [],
   "source": [
    "EPSILON = 1.5\n",
    "START = State(24, 4)\n",
    "GOAL = State(4, 44)\n",
    "\n",
    "planner = ARAStar_Planner(GRAPH_LARGE, START, GOAL, EPSILON, stepsize=0.2)\n",
    "plotter = ARAStar_Plotter(GRAPH_LARGE, START, GOAL)\n",
    "run(planner)"
   ]
  },
  {
   "cell_type": "code",
   "execution_count": null,
   "id": "2873d0ce-97a3-475d-a44e-74043bbc5f2f",
   "metadata": {},
   "outputs": [],
   "source": [
    "plotter.plot_paths_found(planner.paths_found)"
   ]
  },
  {
   "cell_type": "markdown",
   "id": "53cbd94c",
   "metadata": {},
   "source": [
    "Why does the graph look like this? How does eps changing affect the path?\n",
    "\n",
    "**Your answer here**"
   ]
  }
 ],
 "metadata": {
  "kernelspec": {
   "display_name": "Python 3 (ipykernel)",
   "language": "python",
   "name": "python3"
  },
  "language_info": {
   "codemirror_mode": {
    "name": "ipython",
    "version": 3
   },
   "file_extension": ".py",
   "mimetype": "text/x-python",
   "name": "python",
   "nbconvert_exporter": "python",
   "pygments_lexer": "ipython3",
   "version": "3.10.6"
  }
 },
 "nbformat": 4,
 "nbformat_minor": 5
}
