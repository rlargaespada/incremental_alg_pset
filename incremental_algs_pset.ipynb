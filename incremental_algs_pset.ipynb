{
 "cells": [
  {
   "cell_type": "markdown",
   "id": "8a2cb4c6-0924-4a1e-b38b-ad16e1d01d15",
   "metadata": {},
   "source": [
    "# Incremental Algorithms Problem Set (50 points)\n",
    "\n",
    "In this problem set, you will implement the ARA* algorithm, an anytime heuristic search that tunes its performance bound based on available search time. The algorithm begins by finding a suboptimal solution quickly using a loose bound and then progressively tightens the bound until time runs out. With enough time, it finds a provably optimal solution. In addition, while improving its bound, ARA* reuses previous search efforts, which makes it significantly more efficient."
   ]
  },
  {
   "cell_type": "markdown",
   "id": "26adf003-2f8a-49b4-b55a-166506fcbef2",
   "metadata": {},
   "source": [
    "Make sure you load the dependencies below."
   ]
  },
  {
   "cell_type": "code",
   "execution_count": null,
   "id": "b5a71620-08e4-4321-ab50-fc609e94b3bc",
   "metadata": {},
   "outputs": [],
   "source": [
    "# Requirements: python=3.9+ numpy matplotlib jupyter ipython ipympl pylint ipywidgets nose\n",
    "# Enabling the `widget` backend.\n",
    "# This requires jupyter-matplotlib a.k.a. ipympl.\n",
    "%matplotlib widget\n",
    "\n",
    "import numpy as np\n",
    "from utils import (State, ARAStar_Plotter,\n",
    "                   GRAPH_LARGE, GRAPH_SMALL)\n",
    "from ara_star import ARAStar_Planner\n",
    "import tests"
   ]
  },
  {
   "cell_type": "markdown",
   "id": "48f1b3ae-c1c9-47af-9605-236e4858fa5a",
   "metadata": {},
   "source": [
    "# Conceptual Questions"
   ]
  },
  {
   "attachments": {},
   "cell_type": "markdown",
   "id": "a727fa32-50f6-4c2a-8a6d-0ee1cf2708e5",
   "metadata": {},
   "source": [
    "## Problem 1 (2 pts) \n",
    "\n",
    "Why might we prefer to find a suboptimal solution over an optimal solution? Can you name a hypothetical example in which this would be the case?\n",
    "<br/>\n",
    "<div class=\"alert alert-info\">Please type your answer below.</div>"
   ]
  },
  {
   "cell_type": "markdown",
   "id": "bd7c84fe-a42f-4109-ac7d-70f7ce6ccf1e",
   "metadata": {},
   "source": [
    "ANSWER TO PROBLEM 1"
   ]
  },
  {
   "cell_type": "markdown",
   "id": "dcae778e-65f5-4169-a13d-44ec56cff9db",
   "metadata": {},
   "source": [
    "## Problem 2 (2 pts) \n",
    "In the following figure, the left three columns correspond to A* searches with decreasing $\\epsilon$ and the right three columns correspond to ARA* search iterations with decreasing $\\epsilon$. The shaded cells represent cells that have been expanded. Why are there fewer cells expanded in the ARA* algorithm? \n",
    "<img src=\"ara_star_iterations.png\" />\n",
    "<br/>\n",
    "<div class=\"alert alert-info\">Please type your answer below.</div>"
   ]
  },
  {
   "cell_type": "markdown",
   "id": "953d0b36-691f-432c-9b99-4e335ed52be4",
   "metadata": {},
   "source": [
    "ANSWER TO PROBLEM 2"
   ]
  },
  {
   "cell_type": "markdown",
   "id": "15cd93c5-a356-4fc1-be6d-54ccf876c9f0",
   "metadata": {},
   "source": [
    "# Specification of ARA* Planner"
   ]
  },
  {
   "cell_type": "markdown",
   "id": "a6804460-e04e-4c1d-8e86-d09ac1c21b1d",
   "metadata": {},
   "source": [
    "We have created a class called `ARAStar_Planner` with several data structures and utility methods that are helpful in performing the ARA* algorithm. We have also provided some additional utilies for serializing the state of the algorithm for visualization purposes. We recommend you take a look at `ara_star.py` to understand how these methods work. \n",
    "\n",
    "The `ARAStar_Planner` class is initialized as follows:\n",
    "    \n",
    "    ARAStar_Planner(graph, start, goal, epsilon, stepsize)\n",
    "    \n",
    "where the arguments are:\n",
    "- `graph` [np.ndarray] - _graph to search through comprised of only 0s and 1s, with 0s representing free space and 1s representing obstacles_\n",
    "- `start` [State] - _start coordinate of the search_\n",
    "- `goal` [State] - _goal coordinate of the search_\n",
    "- `epsilon` [float] - _initial inflation factor for the heuristic function_\n",
    "- `stepsize` [float] - _amount to decrease epsilon by each iteration of ARA*_\n",
    "\n",
    "All of the above are stored as attributes within the `ARAStar_Planner` class. The class additionally has these attributes, some of which you might want to utilize in the functions you write later in this problem set:\n",
    "- `g` [dict{State: float}] - _mapping of `State` instances to the cost from the start state to the given state_\n",
    "- `OPEN` [dict{State: float}] - _mapping locally inconsistent `States` to their respective fvalues; used as a priority queue for ARA* search_\n",
    "- `CLOSED` [set{State}] - _`States` which have been expanded_\n",
    "- `INCONS` [set{State}] - _locally inconsistent `States` which have been previously expanded_\n",
    "- `PARENTS` [dict{State: State}] - _mapping of each expanded State to its predecessor State in the graph_\n",
    "- `alg_history` [dict{float: List[ARAStar_State]}] - _mapping of an epsilon value to a list of ARAStar_State objects, which recreate the state of the algoritm as it progressed through its search_\n",
    "\n",
    "Note that `State` objects represent coordinates on our grid. We can initialize the coordinate `(x, y)` as `State(x, y)`. For example, `(5, 6)` would correspond to `State(5, 6)`. \n",
    "\n",
    "\n",
    "\n",
    "We have also provided the following methods in the `ARAStar_Planner` class for you to use. Check out `ara_star.py` to see the implementation.\n",
    "- `h(self, state: State) -> int` - Euclidean heuristic between goal and state\n",
    "- `f(self, state: State) -> float` - Combined inflated heuristic\n",
    "- `is_clear(self, state: State) -> bool` - Returns True if given state does not collide with an obstacle in the graph, False otherwise\n",
    "- `is_obstacle(self, state: State) -> bool` - Returns True if given state collides with an obstacle in the graph, False otherwise.\n",
    "- `valid_state(self, state: State) -> bool` - Returns True if given state is within bounds of graph and does not collide with an obstacle, False otherwise.\n",
    "- `neighbors(self, state: State) -> list[State]` - Returns list of neighbors of the given state which are within the bounds of the 8-connected graph and which do not collide with obstacles.\n",
    "- `cost(self, state1: State, state2: State) -> float` - Cost of traversal between two states. Infinite if states are not neighbors, else Euclidean distance.\n",
    "- `get_next_state(self) -> State` - Returns the state from OPEN with the lowest f value, which should be expanded next, or None if OPEN is empty\n",
    "- `extract_path(self, final_state: State = None) -> list[State]` - From PARENTS mapping, returns path to final_state as a list of States. If final_state is None, defaults to goal state\n",
    "- `publish_path(self)` - Saves current value of epsilon and current path to set of paths found\n",
    "- `save_alg_state(self, current_state: State)` - Extracts and saves current path and values of OPEN, CLOSED, and INCONS states to algorithm history for use in testing and plotting\n",
    "        "
   ]
  },
  {
   "cell_type": "markdown",
   "id": "7e0c8722-72e4-41cc-ad44-c8e45b3d7ddb",
   "metadata": {},
   "source": [
    "# Implementing ARA*"
   ]
  },
  {
   "attachments": {},
   "cell_type": "markdown",
   "id": "f74b9002-c7ba-42ab-94bc-26a7d08de1ce",
   "metadata": {},
   "source": [
    "Below you will implement the `initialize`, `improve_path`, `calc_epsilon_prime`, and `run` methods. We've included testing code for each method so you can implement them one at a time, but the tests build on each other so be sure to go in order! Each of these methods is based on the pseudocode from the original ARA* paper (included), with some additions to make it visualize and test our inputs. Use the following pseudocode to guide your implementation:\n",
    "\n",
    "<br/>\n",
    "<img src=\"pseudocode_1.png\" width=500/>\n",
    "<img src=\"pseudocode_2.png\" width=500/>\n",
    "\n",
    "**You can use `np.inf` to represent infinity.**"
   ]
  },
  {
   "cell_type": "markdown",
   "id": "26549210-70b4-425b-9b64-f0f83a2c15c6",
   "metadata": {},
   "source": [
    "## Initializing the ARA* Planner (5 pts)\n",
    "\n",
    "Implement a function that will take an `ARAStar_Planner` object and initialize its fields to perform the ARA* algorithm. \n",
    "\n",
    "<br/>\n",
    "<div class=\"alert alert-info\">\n",
    "Please implement the following function.\n",
    "</div>"
   ]
  },
  {
   "cell_type": "code",
   "execution_count": null,
   "id": "d08ec2a5-5e89-40ca-81bd-4087595ec8b7",
   "metadata": {},
   "outputs": [],
   "source": [
    "def initialize(planner: ARAStar_Planner):\n",
    "    raise NotImplementedError"
   ]
  },
  {
   "cell_type": "markdown",
   "id": "5d861d05-03b7-47a3-92c9-828940562a40",
   "metadata": {},
   "source": [
    "Let's test the function!"
   ]
  },
  {
   "cell_type": "code",
   "execution_count": null,
   "id": "3de4bd04-4a98-409b-bda0-55136d20ddc8",
   "metadata": {},
   "outputs": [],
   "source": [
    "tests.test_initalize(initialize)"
   ]
  },
  {
   "cell_type": "markdown",
   "id": "f9a33ac8-3fa8-4029-98bd-b4bd56db1ca2",
   "metadata": {},
   "source": [
    "## Improving the Existing Path (15 pts) \n",
    "\n",
    "Implement a function that will take an `ARAStar_Planner` object and improve the existing stored path by updating the current state of the vertices using an updated value of $\\epsilon$. \n",
    "\n",
    "<br/>\n",
    "<div class=\"alert alert-info\">\n",
    "Please implement the following function.\n",
    "</div>"
   ]
  },
  {
   "cell_type": "code",
   "execution_count": null,
   "id": "f675e949-448e-4b75-b531-0c01f022e492",
   "metadata": {},
   "outputs": [],
   "source": [
    "def improve_path(planner: ARAStar_Planner):\n",
    "    raise NotImplementedError"
   ]
  },
  {
   "cell_type": "markdown",
   "id": "7a5fc066-c3d8-404b-bf4e-17a0e7f8ace6",
   "metadata": {},
   "source": [
    "Let's test the function!"
   ]
  },
  {
   "cell_type": "code",
   "execution_count": null,
   "id": "a1f494bd-c207-4972-b525-8337594dc1a3",
   "metadata": {},
   "outputs": [],
   "source": [
    "tests.test_improve_path(improve_path, initialize)"
   ]
  },
  {
   "cell_type": "markdown",
   "id": "de1eb0d8-8ea1-4736-a5d8-c27ce4a32bda",
   "metadata": {},
   "source": [
    "## Calculating $\\epsilon^{'}$ (6 pts) \n",
    "\n",
    "A sub-optimality bound can also be computed as the ratio between $g(s_{goal})$, which gives an upper bound on the cost of an optimal solution, and the minimum un-weighted $f$-value of a locally inconsistent state, which gives a lower bound on the cost of an optimal solution. Thus, the actual sub-optimality bound for ARA* is computed as the minimum between ε and this ratio, which we label as $\\epsilon^{'}$. Implement a function below that will take an `ARAStar_Planner` object and compute the value of $\\epsilon^{'}$.\n",
    "\n",
    "<br/>\n",
    "<div class=\"alert alert-info\">\n",
    "Please implement the following function.\n",
    "</div>"
   ]
  },
  {
   "cell_type": "code",
   "execution_count": null,
   "id": "d667e667-e6db-4c96-941e-d2a4ae20b415",
   "metadata": {},
   "outputs": [],
   "source": [
    "def calc_epsilon_prime(planner: ARAStar_Planner):\n",
    "    raise NotImplementedError"
   ]
  },
  {
   "cell_type": "markdown",
   "id": "1511d873-cd10-457d-aa1b-b90af99cf97b",
   "metadata": {},
   "source": [
    "Let's test the function!"
   ]
  },
  {
   "cell_type": "code",
   "execution_count": null,
   "id": "c4c5c0d9-636c-4401-8484-e984ad546df5",
   "metadata": {},
   "outputs": [],
   "source": [
    "tests.test_calc_epsilon_prime(calc_epsilon_prime, improve_path, initialize)"
   ]
  },
  {
   "cell_type": "markdown",
   "id": "ac7cbe8e-78c7-4c2f-a12a-307b74f7bd0e",
   "metadata": {},
   "source": [
    "## Running ARA* (15 pts) \n",
    "\n",
    "Implement a function that will take an `ARAStar_Planner` object and run the ARA* algorithm for a sequence of $\\epsilon$ values, beginning at the value initially inputted when initializing the object and ending at 1 (optimal solution).\n",
    "\n",
    "<br/>\n",
    "<div class=\"alert alert-info\">\n",
    "Please implement the following function.\n",
    "</div>"
   ]
  },
  {
   "cell_type": "code",
   "execution_count": null,
   "id": "7933243a-4c8b-4e72-b4fd-844967814399",
   "metadata": {},
   "outputs": [],
   "source": [
    "def run(planner: ARAStar_Planner):\n",
    "    raise NotImplementedError"
   ]
  },
  {
   "cell_type": "markdown",
   "id": "bccefd82-b0e5-4f93-b676-58bfb7917f2f",
   "metadata": {},
   "source": [
    "Let's test the function!"
   ]
  },
  {
   "cell_type": "code",
   "execution_count": null,
   "id": "ae009e10-ef2d-4d68-97eb-ccdd10d9b7e2",
   "metadata": {},
   "outputs": [],
   "source": [
    "tests.test_run(run)"
   ]
  },
  {
   "cell_type": "markdown",
   "id": "eaa88a66-a62d-4776-a509-0dc9c48cc975",
   "metadata": {},
   "source": [
    "# Visualization \n",
    "Now that we've verified our implementation, let's see how it works in action, by visualizing how the search progresses along a graph with a two different potential paths for different values of $\\epsilon$."
   ]
  },
  {
   "cell_type": "code",
   "execution_count": null,
   "id": "593ef067-b914-4c3c-9f3e-188dc9b86a6b",
   "metadata": {},
   "outputs": [],
   "source": [
    "EPSILON = 2.5\n",
    "START = State(0, 0)\n",
    "GOAL = State(6, 5)\n",
    "\n",
    "planner = ARAStar_Planner(GRAPH_SMALL, START, GOAL, EPSILON, stepsize=1)\n",
    "plotter = ARAStar_Plotter(GRAPH_SMALL, START, GOAL)\n",
    "run(planner)"
   ]
  },
  {
   "cell_type": "markdown",
   "id": "a44658db-5368-49c6-b857-5c43d353caeb",
   "metadata": {},
   "source": [
    "Use the arrows in the widget to see how the states of the cells change as the search process progresses. You can also view how the shortest path changes over time. "
   ]
  },
  {
   "cell_type": "code",
   "execution_count": null,
   "id": "138541a7-443a-45d4-a72e-5e08d97ad745",
   "metadata": {},
   "outputs": [],
   "source": [
    "plotter.plot_episode(2.5, planner.alg_history[2.5])"
   ]
  },
  {
   "cell_type": "code",
   "execution_count": null,
   "id": "27817164-e5a2-4253-ac2b-34e2245094e8",
   "metadata": {},
   "outputs": [],
   "source": [
    "plotter.plot_episode(1.5, planner.alg_history[1.5])"
   ]
  },
  {
   "cell_type": "code",
   "execution_count": null,
   "id": "55527dcd-418b-4c3e-98fa-3b7d87d24109",
   "metadata": {},
   "outputs": [],
   "source": [
    "plotter.plot_paths_found(planner.paths_found)"
   ]
  },
  {
   "cell_type": "markdown",
   "id": "e8288faf-f174-487d-a2b2-5f2f45c68624",
   "metadata": {},
   "source": [
    "## Applying ARA* to Larger Graphs with Multiple Branches\n",
    "\n",
    "Now lets try applying our planner to larger regions where there might be many different paths we can take."
   ]
  },
  {
   "cell_type": "code",
   "execution_count": null,
   "id": "f7cbee6b-4c7b-437d-956f-d107b533ee49",
   "metadata": {},
   "outputs": [],
   "source": [
    "EPSILON = 1.5\n",
    "START = State(24, 4)\n",
    "GOAL = State(4, 44)\n",
    "\n",
    "planner = ARAStar_Planner(GRAPH_LARGE, START, GOAL, EPSILON, stepsize=0.2)\n",
    "plotter = ARAStar_Plotter(GRAPH_LARGE, START, GOAL)\n",
    "run(planner)"
   ]
  },
  {
   "cell_type": "code",
   "execution_count": null,
   "id": "6d609a30-727c-43e2-8828-d9acb44978ec",
   "metadata": {},
   "outputs": [],
   "source": [
    "plotter.plot_paths_found(planner.paths_found)"
   ]
  },
  {
   "cell_type": "markdown",
   "id": "41a9820a-dde8-4109-92bc-4d2337d8770d",
   "metadata": {},
   "source": [
    "## Path Analysis (5 pts)\n",
    "Why does the graph look like this? How does changing $\\epsilon$ affect the path?\n",
    "\n",
    "<br/>\n",
    "<div class=\"alert alert-info\">Please type your answer below.</div>"
   ]
  },
  {
   "cell_type": "markdown",
   "id": "72f5d637-96ad-4bdf-9408-9bec04986e13",
   "metadata": {},
   "source": [
    "ANSWER HERE"
   ]
  }
 ],
 "metadata": {
  "kernelspec": {
   "display_name": "Python 3 (ipykernel)",
   "language": "python",
   "name": "python3"
  },
  "language_info": {
   "codemirror_mode": {
    "name": "ipython",
    "version": 3
   },
   "file_extension": ".py",
   "mimetype": "text/x-python",
   "name": "python",
   "nbconvert_exporter": "python",
   "pygments_lexer": "ipython3",
   "version": "3.10.6"
  }
 },
 "nbformat": 4,
 "nbformat_minor": 5
}
